{
 "cells": [
  {
   "cell_type": "code",
   "execution_count": 18,
   "id": "a3074647",
   "metadata": {},
   "outputs": [],
   "source": [
    "import tensorflow as tf\n",
    "from tensorflow.keras import models, layers\n",
    "import matplotlib.pyplot as plt"
   ]
  },
  {
   "cell_type": "code",
   "execution_count": 19,
   "id": "e261802b",
   "metadata": {},
   "outputs": [],
   "source": [
    "IMAGE_SIZE = 256\n",
    "BATCH_SIZE = 32\n",
    "CHANNELS = 3"
   ]
  },
  {
   "cell_type": "code",
   "execution_count": 20,
   "id": "e740a27b",
   "metadata": {},
   "outputs": [
    {
     "name": "stdout",
     "output_type": "stream",
     "text": [
      "Found 2152 files belonging to 3 classes.\n"
     ]
    }
   ],
   "source": [
    "dataset=tf.keras.preprocessing.image_dataset_from_directory(\n",
    "    \"../Plantvillage\",\n",
    "    shuffle=True,\n",
    "    image_size=(IMAGE_SIZE, IMAGE_SIZE),\n",
    "    batch_size=BATCH_SIZE\n",
    ")"
   ]
  },
  {
   "cell_type": "code",
   "execution_count": 21,
   "id": "c49eed18",
   "metadata": {},
   "outputs": [
    {
     "data": {
      "text/plain": [
       "['Potato___Early_blight', 'Potato___Late_blight', 'Potato___healthy']"
      ]
     },
     "execution_count": 21,
     "metadata": {},
     "output_type": "execute_result"
    }
   ],
   "source": [
    "class_names = dataset.class_names\n",
    "class_names"
   ]
  },
  {
   "cell_type": "code",
   "execution_count": 22,
   "id": "fd670cef",
   "metadata": {},
   "outputs": [
    {
     "data": {
      "text/plain": [
       "68"
      ]
     },
     "execution_count": 22,
     "metadata": {},
     "output_type": "execute_result"
    }
   ],
   "source": [
    "len(dataset)"
   ]
  },
  {
   "cell_type": "code",
   "execution_count": 23,
   "id": "4e35304a",
   "metadata": {},
   "outputs": [
    {
     "name": "stdout",
     "output_type": "stream",
     "text": [
      "(32, 256, 256, 3)\n",
      "[0 1 0 0 0 1 0 0 1 2 1 2 1 0 1 0 0 0 0 1 2 1 0 1 1 1 2 0 0 0 0 1]\n"
     ]
    }
   ],
   "source": [
    "for image_batch, label_batch in dataset.take(1):\n",
    "    print(image_batch.shape)\n",
    "    print(label_batch.numpy())\n",
    "    "
   ]
  },
  {
   "cell_type": "code",
   "execution_count": 24,
   "id": "d100ae98",
   "metadata": {},
   "outputs": [
    {
     "name": "stdout",
     "output_type": "stream",
     "text": [
      "tf.Tensor(\n",
      "[[[193. 188. 185.]\n",
      "  [194. 189. 186.]\n",
      "  [193. 188. 185.]\n",
      "  ...\n",
      "  [199. 194. 198.]\n",
      "  [198. 193. 197.]\n",
      "  [192. 187. 191.]]\n",
      "\n",
      " [[189. 184. 181.]\n",
      "  [191. 186. 183.]\n",
      "  [191. 186. 183.]\n",
      "  ...\n",
      "  [195. 190. 194.]\n",
      "  [197. 192. 196.]\n",
      "  [194. 189. 193.]]\n",
      "\n",
      " [[184. 179. 176.]\n",
      "  [188. 183. 180.]\n",
      "  [190. 185. 182.]\n",
      "  ...\n",
      "  [195. 190. 194.]\n",
      "  [198. 193. 197.]\n",
      "  [197. 192. 196.]]\n",
      "\n",
      " ...\n",
      "\n",
      " [[134. 126. 124.]\n",
      "  [147. 139. 137.]\n",
      "  [151. 143. 141.]\n",
      "  ...\n",
      "  [149. 138. 146.]\n",
      "  [140. 128. 138.]\n",
      "  [145. 133. 143.]]\n",
      "\n",
      " [[139. 131. 129.]\n",
      "  [147. 139. 137.]\n",
      "  [151. 143. 141.]\n",
      "  ...\n",
      "  [157. 145. 157.]\n",
      "  [148. 136. 150.]\n",
      "  [148. 135. 152.]]\n",
      "\n",
      " [[138. 130. 128.]\n",
      "  [137. 129. 127.]\n",
      "  [141. 133. 131.]\n",
      "  ...\n",
      "  [149. 137. 151.]\n",
      "  [145. 132. 150.]\n",
      "  [152. 139. 157.]]], shape=(256, 256, 3), dtype=float32)\n"
     ]
    }
   ],
   "source": [
    "for image_batch, label_batch in dataset.take(1):\n",
    "    print(image_batch[0])\n",
    "    "
   ]
  },
  {
   "cell_type": "code",
   "execution_count": 25,
   "id": "bd96ccfc",
   "metadata": {},
   "outputs": [
    {
     "name": "stdout",
     "output_type": "stream",
     "text": [
      "[[[177. 181. 193.]\n",
      "  [168. 172. 184.]\n",
      "  [204. 208. 220.]\n",
      "  ...\n",
      "  [141. 145. 157.]\n",
      "  [135. 139. 151.]\n",
      "  [129. 133. 145.]]\n",
      "\n",
      " [[193. 197. 209.]\n",
      "  [179. 183. 195.]\n",
      "  [195. 199. 211.]\n",
      "  ...\n",
      "  [136. 140. 152.]\n",
      "  [129. 133. 145.]\n",
      "  [121. 125. 137.]]\n",
      "\n",
      " [[198. 202. 214.]\n",
      "  [193. 197. 209.]\n",
      "  [215. 219. 231.]\n",
      "  ...\n",
      "  [127. 131. 143.]\n",
      "  [119. 123. 135.]\n",
      "  [112. 116. 128.]]\n",
      "\n",
      " ...\n",
      "\n",
      " [[148. 146. 160.]\n",
      "  [148. 146. 160.]\n",
      "  [149. 147. 161.]\n",
      "  ...\n",
      "  [135. 133. 146.]\n",
      "  [140. 138. 151.]\n",
      "  [111. 109. 122.]]\n",
      "\n",
      " [[146. 144. 158.]\n",
      "  [146. 144. 158.]\n",
      "  [148. 146. 160.]\n",
      "  ...\n",
      "  [114. 112. 125.]\n",
      "  [114. 112. 125.]\n",
      "  [148. 146. 159.]]\n",
      "\n",
      " [[146. 144. 158.]\n",
      "  [147. 145. 159.]\n",
      "  [148. 146. 160.]\n",
      "  ...\n",
      "  [116. 114. 127.]\n",
      "  [ 87.  85.  98.]\n",
      "  [158. 156. 169.]]]\n"
     ]
    }
   ],
   "source": [
    "for image_batch, label_batch in dataset.take(1):\n",
    "    print(image_batch[0].numpy())\n",
    "    "
   ]
  }
 ],
 "metadata": {
  "kernelspec": {
   "display_name": "Python 3",
   "language": "python",
   "name": "python3"
  },
  "language_info": {
   "codemirror_mode": {
    "name": "ipython",
    "version": 3
   },
   "file_extension": ".py",
   "mimetype": "text/x-python",
   "name": "python",
   "nbconvert_exporter": "python",
   "pygments_lexer": "ipython3",
   "version": "3.13.7"
  }
 },
 "nbformat": 4,
 "nbformat_minor": 5
}
